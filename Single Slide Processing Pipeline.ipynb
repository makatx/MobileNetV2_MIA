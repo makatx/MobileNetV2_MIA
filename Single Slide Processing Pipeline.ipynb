{
 "cells": [
  {
   "cell_type": "markdown",
   "metadata": {},
   "source": [
    "# Single Slide Processing Pipeline\n",
    "### Generate ASAP Annotations XML file as result"
   ]
  },
  {
   "cell_type": "code",
   "execution_count": 8,
   "metadata": {},
   "outputs": [],
   "source": [
    "import numpy as np\n",
    "from PIL import Image\n",
    "from utils import *\n",
    "from ASAPAnnotationXML import *\n",
    "from keras.models import Model, load_model\n",
    "import openslide\n",
    "from math import ceil\n",
    "from scipy.ndimage.measurements import label\n",
    "from scipy.spatial.distance import pdist, squareform\n",
    "import cv2"
   ]
  },
  {
   "cell_type": "code",
   "execution_count": 10,
   "metadata": {},
   "outputs": [],
   "source": [
    "def RunModelOnTiles(modelfile, tile_list, level=2):\n",
    "    model = load_model(modelfile)\n",
    "    batch_size = 64\n",
    "    steps = math.ceil((tile_list.shape[0])/batch_size)\n",
    "    gen = patch_batch_generator(slide, tile_list, batch_size, level=level)\n",
    "    \n",
    "    predictions = model.predict_generator(gen, steps, verbose=1)\n",
    "    \n",
    "    return predictions\n",
    "\n",
    "def markImage(slide, tile_list, predictions, return_mask=False, from_level=2, img_level=6, tile_size=256, threshold=0.4, color=[255,0,0]):\n",
    "    if return_mask:\n",
    "        img_shape = (slide.level_dimensions[img_level][1], slide.level_dimensions[img_level][1])\n",
    "        img = np.zeros(img_shape)\n",
    "        color = 255\n",
    "    else:\n",
    "        img = getRegionFromSlide(slide, level=img_level)\n",
    "    tile = ceil(tile_size * slide.level_downsamples[from_level]/slide.level_downsamples[img_level])\n",
    "    for i in range(len(tile_list)):\n",
    "        if predictions[i,1] >= threshold:\n",
    "            coord = ( tile_list[i][0] , tile_list[i][1] )\n",
    "            img[coord[1]:coord[1]+tile, coord[0]:coord[0]+tile] = color\n",
    "    return img\n",
    "\n",
    "def getDetectedMaskList(mask):\n",
    "    labels, detections = label(mask)\n",
    "    mask_list = []\n",
    "    for i in range(1, detections+1):\n",
    "        m = np.zeros_like(mask)\n",
    "        m[labels==i] = 255\n",
    "        mask_list.append(m)\n",
    "    return mask_list\n",
    "        \n",
    "def getBoundaryList(mask):\n",
    "    mask_list = getDetectedMaskList(mask)\n",
    "    boundary_list = []\n",
    "    kernel = np.ones((2,2), dtype=np.uint8)\n",
    "    for m in mask_list:\n",
    "        grad = cv2.morphologyEx(m, cv2.MORPH_GRADIENT, kernel)\n",
    "        boundary_list.append(grad)\n",
    "    return boundary_list\n",
    "\n",
    "def getBorderPointsList(mask):\n",
    "    boundary_list = getBoundaryList(mask)\n",
    "    borderpoints_list = []\n",
    "    for b in boundary_list:\n",
    "        borderpoints_list.append(np.argwhere(b))\n",
    "    return borderpoints_list\n",
    "\n",
    "def getAnnotation(borderpoints, downsample_rate=3):\n",
    "    pairwise_distance = squareform(pdist(borderpoints))\n",
    "    max_dist = np.max(pairwise_distance) + 100\n",
    "    \n",
    "    for i in range(pairwise_distance.shape[0]):\n",
    "        pairwise_distance[i,i] = max_dist\n",
    "    \n",
    "    seq = [0]\n",
    "    for i in range(pairwise_distance.shape[0]):\n",
    "        seq.append(np.argmin(pairwise_distance[seq[-1]]))\n",
    "        pairwise_distance[seq[-1], seq[-2]] = max_dist\n",
    "    \n",
    "    annotation = []\n",
    "    for s in seq[::downsample_rate]:\n",
    "        annotation.append(borderpoints[s])\n",
    "        \n",
    "    return np.array(annotation)\n",
    "    \n",
    "def getAnnotationsList(mask, downsample_rate=3):\n",
    "    borderpoints_list = getBorderPointsList(mask)\n",
    "    \n",
    "    annotation_list = []\n",
    "    for b in borderpoints_list:\n",
    "        annotation_list.append(getAnnotation(b, downsample_rate))\n",
    "        \n",
    "    return annotation_list"
   ]
  },
  {
   "cell_type": "markdown",
   "metadata": {},
   "source": [
    "### Get tile list for slide"
   ]
  },
  {
   "cell_type": "code",
   "execution_count": 2,
   "metadata": {},
   "outputs": [],
   "source": [
    "slide = getWSI('../jupyter_notebooks/patient_015/patient_015_node_1.tif')\n",
    "tile_list = getTileList(slide)"
   ]
  },
  {
   "cell_type": "markdown",
   "metadata": {},
   "source": [
    "### Load and run model on tiles and return predictions"
   ]
  },
  {
   "cell_type": "code",
   "execution_count": null,
   "metadata": {},
   "outputs": [],
   "source": []
  }
 ],
 "metadata": {
  "kernelspec": {
   "display_name": "Python 3",
   "language": "python",
   "name": "python3"
  },
  "language_info": {
   "codemirror_mode": {
    "name": "ipython",
    "version": 3
   },
   "file_extension": ".py",
   "mimetype": "text/x-python",
   "name": "python",
   "nbconvert_exporter": "python",
   "pygments_lexer": "ipython3",
   "version": "3.5.2"
  },
  "widgets": {
   "state": {},
   "version": "1.1.2"
  }
 },
 "nbformat": 4,
 "nbformat_minor": 2
}
